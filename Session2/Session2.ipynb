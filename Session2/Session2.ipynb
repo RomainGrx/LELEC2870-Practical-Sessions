{
 "cells": [
  {
   "cell_type": "code",
   "execution_count": null,
   "metadata": {},
   "outputs": [],
   "source": [
    "import scipy.io\n",
    "import numpy as np\n",
    "import random\n",
    "import matplotlib.pyplot as plt\n",
    "import matplotlib as mpl\n",
    "\n",
    "from visualize import visualize\n",
    "from show_quantization import show_quantization"
   ]
  },
  {
   "cell_type": "markdown",
   "metadata": {},
   "source": [
    "# Linear Regression (Continued)"
   ]
  },
  {
   "cell_type": "code",
   "execution_count": null,
   "metadata": {},
   "outputs": [],
   "source": [
    "df = scipy.io.loadmat(f\"data/diabetes.mat\")\n",
    "X = df[\"X\"]\n",
    "n_samples, n_feats = X.shape\n",
    "t = df[\"t\"]\n",
    "t_names = [\"age\", \"sex\", \"bmi\", \"blood_pressure\", \"serum_1\", \n",
    "           \"serum_2\", \"serum_3\", \"serum_4\", \"serum_5\", \"serum_6\"]"
   ]
  },
  {
   "cell_type": "code",
   "execution_count": null,
   "metadata": {},
   "outputs": [],
   "source": [
    "corr_vec = np.corrcoef(X,t, rowvar=False)[-1, :n_feats]\n",
    "most_corr = np.argsort(np.abs(corr_vec))"
   ]
  },
  {
   "cell_type": "code",
   "execution_count": null,
   "metadata": {},
   "outputs": [],
   "source": [
    "from sklearn.base import BaseEstimator\n",
    "\n",
    "class MyLinearRegressor(BaseEstimator):\n",
    "    def __init__(self, add_bias=True):\n",
    "        super().__init__()\n",
    "        self.add_bias = add_bias\n",
    "        \n",
    "    def fit(self, X, y):\n",
    "        if self.add_bias:\n",
    "            X = np.concatenate((X, np.ones((X.shape[0], 1))), axis=-1)\n",
    "        if len(y.shape) < 2:\n",
    "            y = np.expand_dims(y, axis=-1)\n",
    "        ###################\n",
    "        # INSERT CODE HERE\n",
    "        ###################\n",
    "        return self\n",
    "    \n",
    "    def predict(self, X):\n",
    "        pass\n",
    "    \n",
    "    def fit_predict(self, X, y):\n",
    "        return self.fit(X, y).predict(X)\n",
    "    \n",
    "    def score(self, X, y_true):\n",
    "        return 0"
   ]
  },
  {
   "cell_type": "code",
   "execution_count": null,
   "metadata": {},
   "outputs": [],
   "source": [
    "# 1.1.1  Bivariate Linear Regression\n",
    "\n",
    "# Compute the Root Mean Square Error\n",
    "def compute_rmse(predict, target):\n",
    "    ###################\n",
    "    # INSERT CODE HERE\n",
    "    ###################\n",
    "    pass\n",
    "\n",
    "\n",
    "###################\n",
    "# INSERT CODE HERE: \n",
    "# Create one 1-var linear regressor and one 2-vars linear regressor;\n",
    "# Predict target values according to both models\n",
    "###################\n",
    "\n",
    "print(compute_rmse(predict, t))\n",
    "print(compute_rmse(predict2, t))\n"
   ]
  },
  {
   "cell_type": "code",
   "execution_count": null,
   "metadata": {
    "scrolled": true
   },
   "outputs": [],
   "source": [
    "# 1.1.2  Multivariate Linear Regression\n",
    "###################\n",
    "# INSERT CODE HERE\n",
    "###################\n"
   ]
  },
  {
   "cell_type": "code",
   "execution_count": null,
   "metadata": {},
   "outputs": [],
   "source": [
    "# 1.1.3  Train-test Generalization\n",
    "X_copy = X.copy()\n",
    "t_copy = t.copy()\n",
    "\n",
    "def unison_shuffled_copies(a, b):\n",
    "    assert len(a) == len(b)\n",
    "    p = np.random.permutation(len(a))\n",
    "    return a[p], b[p]\n",
    "\n",
    "X_perm, t_perm = unison_shuffled_copies(X_copy, t_copy)\n",
    "half_index = X_perm.shape[0]//2\n",
    "\n",
    "X1 = X_perm[:half_index, :]\n",
    "X2 = X_perm[half_index:, :]\n",
    "\n",
    "t1 = t_perm[:half_index, :]\n",
    "t2 = t_perm[half_index:, :]\n",
    "\n",
    "linreg = MyLinearRegressor()\n",
    "i = 3\n",
    "best_indices = most_corr[-i:]\n",
    "\n",
    "xx1 = X1[:, best_indices]\n",
    "xx2 = X2[:, best_indices]\n",
    "\n",
    "linreg.fit(xx1, t1)\n",
    "\n",
    "plt.figure(figsize=(10, 5), dpi=80)\n",
    "\n",
    "\n",
    "plt.subplot(1,2,1)\n",
    "predict_X1 = linreg.predict(xx1)\n",
    "plt.scatter(predict_X1, t1)\n",
    "plt.title(f'(X1, t1) \\n {i} best corrcoeff -> RMSE: {compute_rmse(predict_X1, t1)}')\n",
    "\n",
    "\n",
    "plt.subplot(1,2,2)\n",
    "predict_X2 = linreg.predict(xx2)\n",
    "plt.scatter(predict_X2, t2)\n",
    "plt.title(f'(X2, t2) \\n {i} best corrcoeff -> RMSE: {compute_rmse(predict_X2, t2)}')\n",
    "\n",
    "\n"
   ]
  },
  {
   "cell_type": "code",
   "execution_count": null,
   "metadata": {},
   "outputs": [],
   "source": [
    "# 1.1.4 Stochastic Gradient Descent\n",
    "\n",
    "class MySGDLinearRegressor(MyLinearRegressor):\n",
    "    def __init__(self, n_epochs=100, lr=1e-3, lr_annealing=0.99, **kwargs):\n",
    "        super().__init__(**kwargs)\n",
    "        self.n_epochs = n_epochs\n",
    "        self.lr = lr\n",
    "        self.lr_annealing = lr_annealing\n",
    "        \n",
    "    def fit(self, X, y):\n",
    "        assert X.shape[-1] == 2, \"Only 2 features are supported for now\"\n",
    "        if len(y.shape) < 2:\n",
    "            y = np.expand_dims(y, axis=-1)\n",
    "        \n",
    "        w0 = 1\n",
    "        w1 = 100\n",
    "        b  = -10\n",
    "        lr = self.lr\n",
    "        ## Compute coeffs\n",
    "        for epoch in range(self.n_epochs):\n",
    "            for x, ytrue in zip(X, y):\n",
    "                # Compute Gradient\n",
    "                ###################\n",
    "                # INSERT CODE HERE\n",
    "                ###################\n",
    "\n",
    "                # Update weights\n",
    "                ###################\n",
    "                # INSERT CODE HERE\n",
    "                ###################\n",
    "\n",
    "                # Update lr \n",
    "                ###################\n",
    "                # INSERT CODE HERE\n",
    "                ###################\n",
    "\n",
    "\n",
    "        self.coeffs = np.array([w0, w1])\n",
    "        self.bias = b#[0]\n",
    "        return self\n",
    "best_indices = most_corr[-2:]\n",
    "xx = X[:, best_indices]\n",
    "\n",
    "linreg = MyLinearRegressor()\n",
    "sgdlinreg = MySGDLinearRegressor(n_epochs=100, lr=1e-3, lr_annealing=0.9)\n",
    "\n",
    "real_score = linreg.fit(xx, t).score(xx, t)\n",
    "sgd_score = sgdlinreg.fit(xx, t).score(xx, t)\n",
    "\n",
    "print(f\"Pseudo-inverse method: {real_score:5.2f} (coeffs: {linreg.coeffs[0]}, bias={linreg.bias})\")\n",
    "print(f\"SGD method:            {sgd_score:5.2f} (coeffs: {sgdlinreg.coeffs}, bias={sgdlinreg.bias})\")"
   ]
  },
  {
   "cell_type": "markdown",
   "metadata": {},
   "source": [
    "# Radial Basis Function Network\n"
   ]
  },
  {
   "cell_type": "code",
   "execution_count": null,
   "metadata": {},
   "outputs": [],
   "source": [
    "data_file = \"data/bell_shaped.mat\"\n",
    "# data_file = \"data/wave_shaped.mat\"\n",
    "\n",
    "df = scipy.io.loadmat(data_file)\n",
    "x_train = df['X_train']\n",
    "x_test = df['X_test']\n",
    "t_train = df['T_train']\n",
    "t_test = df['T_test']"
   ]
  },
  {
   "cell_type": "code",
   "execution_count": null,
   "metadata": {},
   "outputs": [],
   "source": [
    "visualize(x_train,t_train)\n",
    "visualize(x_test,t_test)"
   ]
  },
  {
   "cell_type": "code",
   "execution_count": null,
   "metadata": {},
   "outputs": [],
   "source": [
    "#put your code of competitive learning here\n",
    "def comp_learning(X, Y, n_epochs=100, alpha=0.1, beta=0.99, min_epsilon=1e-3):\n",
    "    ###################\n",
    "    # INSERT CODE HERE\n",
    "    ###################\n",
    "    pass\n",
    "\n",
    "# Centroid Initialization\n",
    "def get_inits(X, Q, method = \"sample\"):\n",
    "    inits = {}\n",
    "    mini = np.min(X, axis=0)\n",
    "    maxi = np.max(X, axis=0)\n",
    "    \n",
    "    n_feats = X.shape[-1]\n",
    "    rand_array = [\n",
    "    for i in range(n_feats):\n",
    "        rand_array.append(\n",
    "            np.random.uniform(mini[i],maxi[i],Q)\n",
    "        )\n",
    "    inits[\"random\"] = np.array(rand_array).T\n",
    "    inits[\"sample\"] = np.array(random.sample(X.tolist(), Q))\n",
    "\n",
    "    return inits[method]"
   ]
  },
  {
   "cell_type": "code",
   "execution_count": null,
   "metadata": {},
   "outputs": [],
   "source": [
    "class MyRBFN():\n",
    "    def __init__(self, nb_centers, width_scaling):\n",
    "        super().__init__()\n",
    "        self.nb_centers = nb_centers\n",
    "        self.width_scaling = width_scaling\n",
    "\n",
    "        self.linear_model = MyLinearRegressor(add_bias = True)\n",
    "        \n",
    "    def fit_centers(self,X):\n",
    "        centroid_inits = get_inits(X,self.nb_centers)\n",
    "        # c is of shape (nb_centers,X.shape[1])\n",
    "        self.c, self.i = comp_learning(X, centroid_inits, n_epochs=100, alpha=0.1, beta=0.99, min_epsilon=1e-3)\n",
    "    \n",
    "    def fit_widths(self,X):\n",
    "        ###################\n",
    "        # INSERT CODE HERE\n",
    "        ###################\n",
    "        pass\n",
    "        \n",
    "    def fit_weights(self,X,y):\n",
    "        ###################\n",
    "        # INSERT CODE HERE\n",
    "        ###################\n",
    "        pass\n",
    "        \n",
    "    def fit(self, X, y):\n",
    "        self.fit_centers(X)\n",
    "        self.fit_widths(X)\n",
    "        self.fit_weights(X,y)\n",
    "    \n",
    "    def non_linear_transform(self,X):\n",
    "        ###################\n",
    "        # INSERT CODE HERE\n",
    "        ###################\n",
    "        pass\n",
    "    \n",
    "    def predict(self, X):\n",
    "        ###################\n",
    "        # INSERT CODE HERE\n",
    "        ###################\n",
    "        # SOLUTION\n",
    "        pass\n",
    "    \n",
    "    def fit_predict(self, X, y):\n",
    "        return self.fit(X, y).predict(X)\n",
    "    \n",
    "    def score(self, X, y_true):\n",
    "        y = self.predict(X)\n",
    "        return compute_rmse(y, y_true)"
   ]
  },
  {
   "cell_type": "code",
   "execution_count": null,
   "metadata": {},
   "outputs": [],
   "source": [
    "rbfn = MyRBFN(nb_centers =40, width_scaling = 4.)\n",
    "rbfn.fit(x_train,t_train)"
   ]
  },
  {
   "cell_type": "code",
   "execution_count": null,
   "metadata": {},
   "outputs": [],
   "source": [
    "# Try this after you implemented fit_centers() \n",
    "show_quantization(x_train,rbfn.c)"
   ]
  },
  {
   "cell_type": "code",
   "execution_count": null,
   "metadata": {},
   "outputs": [],
   "source": [
    "visualize(x_test,rbfn.predict(x_test))\n",
    "visualize(x_test,t_test)\n",
    "rbfn.score(x_test,t_test)"
   ]
  }
 ],
 "metadata": {
  "kernelspec": {
   "display_name": "'Python Interactive'",
   "language": "python",
   "name": "5fe4b3dc-6e12-444a-9472-94036bfd6dd7"
  },
  "language_info": {
   "codemirror_mode": {
    "name": "ipython",
    "version": 3
   },
   "file_extension": ".py",
   "mimetype": "text/x-python",
   "name": "python",
   "nbconvert_exporter": "python",
   "pygments_lexer": "ipython3",
   "version": "3.7.5"
  }
 },
 "nbformat": 4,
 "nbformat_minor": 2
}